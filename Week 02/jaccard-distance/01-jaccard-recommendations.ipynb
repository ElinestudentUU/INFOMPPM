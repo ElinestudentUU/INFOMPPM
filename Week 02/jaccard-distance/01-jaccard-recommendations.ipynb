{
 "cells": [
  {
   "cell_type": "markdown",
   "metadata": {},
   "source": [
    "# Recommendations based on Jaccard index\n",
    "The Jaccard index, also known as the Jaccard similarity coefficient, is a statistic used for gauging the similarity and diversity of sample sets. It measures similarity between finite sample sets, and is defined as the size of the intersection divided by the size of the union of the sample sets. \n",
    "\n",
    "$$ J(A, B) = \\frac{|A \\cap B|}{|A \\cup B|} $$\n",
    "\n",
    "Your objective is to create a Python function that utilizes the Jaccard index to find and recommend content from users who share similar interests. You will embed this function to the streamlit app\n"
   ]
  },
  {
   "cell_type": "markdown",
   "metadata": {},
   "source": [
    "### 1. Loading the data\n",
    "Load a subset from the ratings dataset."
   ]
  },
  {
   "cell_type": "code",
   "execution_count": 1,
   "metadata": {},
   "outputs": [
    {
     "name": "stderr",
     "output_type": "stream",
     "text": [
      "/tmp/ipykernel_9018/1825676040.py:1: DeprecationWarning: \n",
      "Pyarrow will become a required dependency of pandas in the next major release of pandas (pandas 3.0),\n",
      "(to allow more performant data types, such as the Arrow string type, and better interoperability with other libraries)\n",
      "but was not found to be installed on your system.\n",
      "If this would cause problems for you,\n",
      "please provide us feedback at https://github.com/pandas-dev/pandas/issues/54466\n",
      "        \n",
      "  import pandas as pd\n"
     ]
    }
   ],
   "source": [
    "import pandas as pd\n",
    "df = pd.read_csv('./data/BX-Book-Ratings-Subset.csv', sep=';', encoding='latin-1')"
   ]
  },
  {
   "cell_type": "markdown",
   "metadata": {},
   "source": [
    "### 2. Generating the recommendations"
   ]
  },
  {
   "cell_type": "code",
   "execution_count": 4,
   "metadata": {},
   "outputs": [
    {
     "data": {
      "text/html": [
       "<div>\n",
       "<style scoped>\n",
       "    .dataframe tbody tr th:only-of-type {\n",
       "        vertical-align: middle;\n",
       "    }\n",
       "\n",
       "    .dataframe tbody tr th {\n",
       "        vertical-align: top;\n",
       "    }\n",
       "\n",
       "    .dataframe thead th {\n",
       "        text-align: right;\n",
       "    }\n",
       "</style>\n",
       "<table border=\"1\" class=\"dataframe\">\n",
       "  <thead>\n",
       "    <tr style=\"text-align: right;\">\n",
       "      <th></th>\n",
       "      <th>User-ID</th>\n",
       "      <th>ISBN</th>\n",
       "      <th>Book-Rating</th>\n",
       "    </tr>\n",
       "  </thead>\n",
       "  <tbody>\n",
       "    <tr>\n",
       "      <th>290</th>\n",
       "      <td>2033</td>\n",
       "      <td>0060248025</td>\n",
       "      <td>10</td>\n",
       "    </tr>\n",
       "    <tr>\n",
       "      <th>291</th>\n",
       "      <td>2033</td>\n",
       "      <td>0060256737</td>\n",
       "      <td>10</td>\n",
       "    </tr>\n",
       "    <tr>\n",
       "      <th>292</th>\n",
       "      <td>2033</td>\n",
       "      <td>0140386645</td>\n",
       "      <td>8</td>\n",
       "    </tr>\n",
       "    <tr>\n",
       "      <th>293</th>\n",
       "      <td>2033</td>\n",
       "      <td>0142000663</td>\n",
       "      <td>10</td>\n",
       "    </tr>\n",
       "    <tr>\n",
       "      <th>295</th>\n",
       "      <td>2033</td>\n",
       "      <td>0439064864</td>\n",
       "      <td>9</td>\n",
       "    </tr>\n",
       "    <tr>\n",
       "      <th>...</th>\n",
       "      <td>...</td>\n",
       "      <td>...</td>\n",
       "      <td>...</td>\n",
       "    </tr>\n",
       "    <tr>\n",
       "      <th>41054</th>\n",
       "      <td>276050</td>\n",
       "      <td>0553279912</td>\n",
       "      <td>7</td>\n",
       "    </tr>\n",
       "    <tr>\n",
       "      <th>41055</th>\n",
       "      <td>276050</td>\n",
       "      <td>0553377868</td>\n",
       "      <td>7</td>\n",
       "    </tr>\n",
       "    <tr>\n",
       "      <th>41056</th>\n",
       "      <td>276050</td>\n",
       "      <td>0671021001</td>\n",
       "      <td>9</td>\n",
       "    </tr>\n",
       "    <tr>\n",
       "      <th>41057</th>\n",
       "      <td>276050</td>\n",
       "      <td>067102423X</td>\n",
       "      <td>8</td>\n",
       "    </tr>\n",
       "    <tr>\n",
       "      <th>41058</th>\n",
       "      <td>276050</td>\n",
       "      <td>0679746048</td>\n",
       "      <td>7</td>\n",
       "    </tr>\n",
       "  </tbody>\n",
       "</table>\n",
       "<p>8300 rows × 3 columns</p>\n",
       "</div>"
      ],
      "text/plain": [
       "       User-ID        ISBN  Book-Rating\n",
       "290       2033  0060248025           10\n",
       "291       2033  0060256737           10\n",
       "292       2033  0140386645            8\n",
       "293       2033  0142000663           10\n",
       "295       2033  0439064864            9\n",
       "...        ...         ...          ...\n",
       "41054   276050  0553279912            7\n",
       "41055   276050  0553377868            7\n",
       "41056   276050  0671021001            9\n",
       "41057   276050  067102423X            8\n",
       "41058   276050  0679746048            7\n",
       "\n",
       "[8300 rows x 3 columns]"
      ]
     },
     "execution_count": 4,
     "metadata": {},
     "output_type": "execute_result"
    }
   ],
   "source": [
    "import itertools\n",
    "\n",
    "# user we want to check\n",
    "id = 98783\n",
    "\n",
    "def get_jaccard_recommendations(id):\n",
    "  # create lists per user\n",
    "  users = df.groupby('User-ID')['ISBN'].apply(list)\n",
    "  \n",
    "  new_content = []\n",
    "  similar_users = []\n",
    "  \n",
    "  for user, value in users.items():\n",
    "    a = set(users[id])\n",
    "    b = set(users[user])\n",
    "    new = b.difference(a)\n",
    "\n",
    "    j = float(len(a.intersection(b))) / len(a.union(b))\n",
    "    \n",
    "    # tweak this parameter. Closer to 0.0 is more the same. 0.0 is the user.\n",
    "    if j < 0.8 and j != 0.0:\n",
    "      new_content.append(new)\n",
    "      similar_users.append(user)\n",
    "\n",
    "  # flatten the list with the sets\n",
    "  new_content = list(itertools.chain(*new_content))\n",
    "\n",
    "  df_recommendations = df[df['User-ID'].isin(similar_users) & df['ISBN'].isin(new_content)]\n",
    "\n",
    "  df_recommendations.sort_values('Book-Rating', ascending=False)\n",
    "\n",
    "  return df_recommendations\n",
    "\n",
    "get_jaccard_recommendations(id)"
   ]
  }
 ],
 "metadata": {
  "interpreter": {
   "hash": "37c10f95d263926787ebf1d430d11186fc6b9bac835b8518e0b5006ed24f0c36"
  },
  "kernelspec": {
   "display_name": "Python 3 (ipykernel)",
   "language": "python",
   "name": "python3"
  },
  "language_info": {
   "codemirror_mode": {
    "name": "ipython",
    "version": 3
   },
   "file_extension": ".py",
   "mimetype": "text/x-python",
   "name": "python",
   "nbconvert_exporter": "python",
   "pygments_lexer": "ipython3",
   "version": "3.10.13"
  },
  "orig_nbformat": 4
 },
 "nbformat": 4,
 "nbformat_minor": 2
}
